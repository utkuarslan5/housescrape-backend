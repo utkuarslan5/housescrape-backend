{
 "cells": [
  {
   "cell_type": "code",
   "execution_count": 11,
   "metadata": {},
   "outputs": [],
   "source": [
    "# from langchain_community.utilities import SQLDatabase\n",
    "\n",
    "\n",
    "# db = SQLDatabase.from_uri(\"sqlite:///./data/houses_buy_test.db\")\n",
    "# print(db.dialect)\n",
    "# print(db.get_usable_table_names())\n",
    "# db.run(\"SELECT * FROM houses LIMIT 1;\")"
   ]
  },
  {
   "cell_type": "code",
   "execution_count": 1,
   "metadata": {},
   "outputs": [
    {
     "data": {
      "text/plain": [
       "True"
      ]
     },
     "execution_count": 1,
     "metadata": {},
     "output_type": "execute_result"
    }
   ],
   "source": [
    "import dotenv\n",
    "dotenv.load_dotenv()"
   ]
  },
  {
   "cell_type": "code",
   "execution_count": 13,
   "metadata": {},
   "outputs": [],
   "source": [
    "# from langchain_community.agent_toolkits import create_sql_agent\n",
    "# from langchain_openai import ChatOpenAI\n",
    "\n",
    "# llm = ChatOpenAI(model=\"gpt-3.5-turbo\", temperature=0)\n",
    "# agent_executor = create_sql_agent(llm, db=db, agent_type=\"openai-tools\", verbose=True)"
   ]
  },
  {
   "cell_type": "code",
   "execution_count": 14,
   "metadata": {},
   "outputs": [],
   "source": [
    "# agent_executor.invoke(\n",
    "#     \"Get me houses in maastricht that are lower than 250000 eur?\"\n",
    "# )"
   ]
  },
  {
   "cell_type": "code",
   "execution_count": 15,
   "metadata": {},
   "outputs": [],
   "source": [
    "# agent_executor.invoke(\n",
    "#     \"I want to get a student friendly house in Nijmegen Explain How did you decide it is student friendly?\"\n",
    "# )"
   ]
  },
  {
   "cell_type": "code",
   "execution_count": null,
   "metadata": {},
   "outputs": [],
   "source": [
    "from langchain_openai import OpenAIEmbeddings\n",
    "from langchain_community.vectorstores import Chroma\n",
    "from langchain_community.document_loaders.csv_loader import CSVLoader\n",
    "\n",
    "\n",
    "embeddings = OpenAIEmbeddings(model=\"text-embedding-3-small\")\n",
    "\n",
    "loader = CSVLoader('./data/houses_buy_test.csv', source_column=\"descrip\", metadata_columns=[\"house_id\", \"url\", \"city\", \"house_type\", \"building_type\", \"price\", \"price_m2\", \"room\", \"bedroom\", \"bathroom\", \"living_area\", \"energy_label\", \"zip\", \"address\", \"year_built\", \"house_age\"])\n",
    "houses = loader.load()\n",
    "houses"
   ]
  },
  {
   "cell_type": "code",
   "execution_count": 12,
   "metadata": {},
   "outputs": [
    {
     "data": {
      "text/plain": [
       "'{\"page_content\": \"descrip: DE VERMELDE PRIJS  BETREFT  BIEDEN VANAF  \\\\u20ac 350.000,-  k.k.  Aan de  rand  van de wijk Boschpoort, nabij het Boschstraatkwartier  en  de Maas, bieden  wij u deze  vrijstaande Rijksmonumentale  Brugwachterswoning  aan  met  een karakteristieke uitstraling. Deze Brugwachterswoning is gesitueerd bij sluis 19 van de Zuid-Willemsvaart en vormt samen met de sluis, het jaagpad, de waterduiker en de naburige sluiswachterswoning een onverbrekelijk functioneel geheel.  De woning bevat onder andere een souterrain, woonkamer, keuken, 4 slaapkamers, 2 badkamers en een tuinberging en is gelegen op een perceel van 173 m\\\\u00b2. Diverse voorzieningen zijn in de directe omgeving aanwezig, evenals het centrum van Maastricht, welke op loop- en fietsafstand gelegen is. Tevens zijn er ook goede verbindingen met uitvalswegen richting Eindhoven-Luik (A2) en Valkenburg-Heerlen-Aachen (A79).  Algemeen: Bouwjaar: 1965 Inhoud: 725 m\\\\u00b3  Gebruiksoppervlakte wonen: 142 m\\\\u00b2 Overige inpandige ruimte: 47 m\\\\u00b2 Perceeloppervlakte: 173 m\\\\u00b2 Aanvaarding: in onderling overleg  Voorzieningen: Elektriciteit: voldoende groepen aanwezig Wateraansluiting: aanwezig Gasnetaansluiting: aanwezig Rioolaansluiting: aanwezig Kozijnen: houten kozijnen Isolatie: HR++ beglazing, dak van tuinberging is voorzien van unidekplaten  Installaties: Centrale verwarming: Remeha Avanta HR-combi-ketel, eigendom (bouwjaar 2023) Warm water voorziening: middels de cv-installatie  Indeling: \\\\u2022 Kelder:  Vanuit de entree is er toegang tot de provisiekelder van ca. 28 m\\\\u00b2, alwaar de cv-installatie zich bevindt.  \\\\u2022 Begane grond: Aan de voorzijde, met zicht op de sluis en de Zuid-Willemsvaart, bevindt zich de entree van de woning. De entree met meterkast is in het midden van de woning gelegen, van waaruit de woonkamer, keuken, toiletruimte en badkamer te bereiken zijn. De woonkamer van ca. 19 m\\\\u00b2 bevindt zich aan de linkerzijde. Aan de overzijde aan de rechterkant bevindt zich de gesloten keukenruimte van ca. 19 m\\\\u00b2, welke voorzien is van een aanbouwkeuken met oven, 4-pits gaskookplaat, afzuigkap en gootsteen. Aan het einde van de entree bevindt zich een portaal van waaruit de tuin toegankelijk is en alwaar de toiletruimte en badkamer zich bevinden. De badkamer is voorzien van een douche en een vaste wastafel.  \\\\u2022 1e verdieping: De authentieke trap leidt u naar de eerste verdieping, alwaar via de overloop 2 slaapkamers en de badkamer te bereiken zijn. Slaapkamer I van ca. 19 m\\\\u00b2 is voorzien van een laminaatvloer. Slaapkamer II van ca. 19 m\\\\u00b2 is voorzien van vloerbedekking. De halfhoog betegelde badkamer van ca. 2 m\\\\u00b2 is voorzien van een douche en vaste wastafel.  \\\\u2022 2e verdieping: De authentieke trap leidt u verder naar de tweede verdieping, alwaar via de overloop eveneens 2 slaapkamers en de toiletruimte met fonteintje te bereiken zijn. Slaapkamer III van ca. 19 m\\\\u00b2 is voorzien van een laminaatvloer, keukenblok met gootsteen en een dakkapel aan de voor- en achterzijde. Slaapkamer IV van ca. 19 m\\\\u00b2 is voorzien van een laminaatvloer en heeft eveneens een dakkapel aan de voor- en achterzijde. De halfhoog betegelde badkamer van ca. 2 m\\\\u00b2 is voorzien van een douche en vaste wastafel.  \\\\u2022 Bijgebouwen: De naast de woning gelegen berging van ca. 20 m\\\\u00b2 is voorzien van een toegangsdeur, te bereiken via de zijgevel.  \\\\u2022 Tuin: Achter en aan de linkerzijde van de woning is de tuin bereikbaar alwaar de stenen berging gelegen is en er toegang is tot de straat.  Ligging: De wijk Boschpoort is gunstig gelegen ten opzichte van het centrum van Maastricht, deze is namelijk op loop- en fietsafstand gelegen. Daarnaast zijn ook Smeermaas en Lanaken makkelijk te bereiken. Ook zijn er goede verbindingen met uitvalswegen richting Eindhoven-Luik (A2) en Valkenburg-Heerlen-Aachen (A79). Diverse voorzieningen waaronder winkels, recreatie en spotfaciliteiten zijn in de directe omgeving aanwezig.  Verkoopvoorwaarden en overige informatie: - Zowel de opkoopbescherming van de Gemeente Maastricht, als de zelfbewoningsplicht is bij de verkoop van deze woning van toepassing.  - Iedere belangstellende kan zijn interesse tot aankoop kenbaar maken. Deze interesse, vertaald in een \\\\u00e9\\\\u00e9nmalig bod, dient schriftelijk v\\\\u00f3\\\\u00f3r WOENSDAG 1 MEI 2024, 12.00 uur, kenbaar gemaakt te worden bij Notariskantoor VHN NOTARISSEN, ALEXANDER BATTALAAN 44 te 6221 CE Maastricht in een gesloten envelop (persoonlijk of aangetekend) ter attentie van Belv\\\\u00e9d\\\\u00e8re Wijkontwikkelingsmaatschappij BV onder vermelding van \\\\u201cbod Bosscherweg 36 Maastricht\\\\u201d.  - Dit eenmalig bod, lees de ultieme bieding, dient inclusief eventuele ontbindende voorwaarden zoals voorbehoud financiering (hoogte financiering en datum ontbindende voorwaarde) of andere voorwaarden te zijn. Bij het uitbrengen van het bod verzoeken wij u om bijgaand biedingsformulier en Bibob quickscan formulier te gebruiken;  - Op deze verkoop zijn de Algemene voorwaarden voor de verkoop van onroerende zaken door de gemeente Maastricht van toepassing  - Uitnodiging: Deze informatie wordt aan meerdere personen verstrekt, aan deze gegevens kunnen geen rechten worden ontleend. De aanbieding van dit object dient te worden gezien als een uitnodiging om een schriftelijke bieding te doen.  - Gunning: Verkoper behoudt zich het recht voor het object te gunnen aan de gegadigde met de hoogste bieding. Verkoper behoudt zich het recht om niet te gunnen.  - Overeenkomst: Koper kan aan een mondelinge overeenkomst geen rechten ontlenen, verkoper behoudt zich tot dat er tussen partijen een schriftelijke overeenkomst tot stand is gekomen alle rechten voor. Verkoper is pas gehouden aan de overeenkomst nadat de akte door beide partijen is getekend. Een eventuele overeenkomst komt pas tot stand en aan de inhoud ervan kunnen pas rechten worden ontleend nadat is voldaan aan de navolgende cumulatieve eisen, te weten;   a. ondertekening door koper;   b. door of namens het College van Burgemeester en Wethouders het aangaan van deze overeenkomst wordt        goedgekeurd;   c. een formeel en onvoorwaardelijk besluit van de Algemene Vergadering van Aandeelhouders Belv\\\\u00e9d\\\\u00e8re        Wijkontwikkelingsmaatschappij B.V. dat expliciet is gericht op het aangaan van deze overeenkomst;   d. de overeenkomst namens Verkoper is ondertekend.  - Koopakte: Behoudens nadere afspraken gelden de standaardregels zoals deze voorkomen in de model-koopakte, die is opgesteld door de Nederlandse Vereniging van Makelaars NVM, de consumentenbonden en de Vereniging Eigen Huis.    Eventueel door de koper te maken voorbehouden worden alleen opgenomen als deze in de bieding zijn opgenomen.  - Integriteitsclausule:   a. Op deze overeenkomst is de \\\\u201cBeleidsregel voor de toepassing van de Wet Bevordering Integriteitsbeoordelingen door het openbaar bestuur gemeente Maastricht\\\\u201d vastgesteld door het College van Burgemeester en Wethouders op 27 juni 2023, van toepassing. Door ondertekening verklaart koper kennis te        hebben genomen van deze beleidsregel. In deze beleidsregel is opgenomen dat bij vastgoedtransacties waarbij de gemeente onroerend goed verkoopt in beginsel een Bibob-toets kan plaatsvinden. Koper dient hiervoor het bijgevoegde quickscan formulier in te vullen zoals bij deze overeenkomst gevoegd.   b. Verkoper kan deze overeenkomst onmiddellijk en naar eigen keuze ontbinden, zonder gehouden te zijn tot       vergoeding van eventuele schade en zonder daarbij een termijn in acht te hoeven nemen, voor zover:      a. er sprake is van een ernstig of een mindere mate van gevaar dat de vastgoedtransactie als gevolg van deze overeenkomst mede zal worden gebruikt om uit gepleegde strafbare feiten verkregen of te verkrijgen, op geld waardeerbare voordelen te benutten;      b. er sprake is van feiten en omstandigheden die erop wijzen of redelijkerwijs doen vermoeden dat verkoper in relatie staat tot strafbare feiten;      c. er sprake is van feiten en omstandigheden die erop wijzen of redelijkerwijs doen vermoeden dat ter vervreemding dan wel verkrijging van deze vastgoedtransactie een strafbaar feit is gepleegd;      d. koper heeft nagelaten de vragen die hem door de gemeente zijn gesteld op grond van artikel 30 Wet Bibob, volledig en naar waarheid te beantwoorden, of       e. koper heeft nagelaten de vragen die hem door het Landelijk Bureau Bibob zijn gesteld op grond van artikel 12, vierde lid Wet Bibob, volledig en naar waarheid te beantwoorden.   c. De begrippen ernstig gevaar, mindere mate van gevaar, strafbare feiten, in relatie staan tot en feiten en omstandigheden die erop wijzen of redelijkerwijs doen vermoeden, hebben in deze overeenkomst de betekenis die hen in de Wet Bibob toekomt.   d. Verkoper kan het Landelijk Bureau Bibob met het oog op diens taak zoals bedoeld in artikel 9, derde lid Wet Bibob, om advies vragen.  Inlichtingen: Indien u meer wilt weten over het object of een bezichtiging wilt aanvragen, kunt u contact opnemen met ons kantoor te Margraten, bereikbaar op telefoonnummer: 043 30 30 117.  Deze informatie is door ons met de nodige zorgvuldigheid samengesteld. Onzerzijds wordt echter geen enkele aansprakelijkheid aanvaard voor enige onvolledigheid, onjuistheid of anderszins, dan wel de gevolgen daarvan.  Alle maten zijn bij benadering weergegeven. Deze aanbieding mag slechts worden gezien als een uitnodiging tot bezichtiging.\", \"metadata\": {\"source\": \"DE VERMELDE PRIJS  BETREFT  BIEDEN VANAF  \\\\u20ac 350.000,-  k.k.  Aan de  rand  van de wijk Boschpoort, nabij het Boschstraatkwartier  en  de Maas, bieden  wij u deze  vrijstaande Rijksmonumentale  Brugwachterswoning  aan  met  een karakteristieke uitstraling. Deze Brugwachterswoning is gesitueerd bij sluis 19 van de Zuid-Willemsvaart en vormt samen met de sluis, het jaagpad, de waterduiker en de naburige sluiswachterswoning een onverbrekelijk functioneel geheel.  De woning bevat onder andere een souterrain, woonkamer, keuken, 4 slaapkamers, 2 badkamers en een tuinberging en is gelegen op een perceel van 173 m\\\\u00b2. Diverse voorzieningen zijn in de directe omgeving aanwezig, evenals het centrum van Maastricht, welke op loop- en fietsafstand gelegen is. Tevens zijn er ook goede verbindingen met uitvalswegen richting Eindhoven-Luik (A2) en Valkenburg-Heerlen-Aachen (A79).  Algemeen: Bouwjaar: 1965 Inhoud: 725 m\\\\u00b3  Gebruiksoppervlakte wonen: 142 m\\\\u00b2 Overige inpandige ruimte: 47 m\\\\u00b2 Perceeloppervlakte: 173 m\\\\u00b2 Aanvaarding: in onderling overleg  Voorzieningen: Elektriciteit: voldoende groepen aanwezig Wateraansluiting: aanwezig Gasnetaansluiting: aanwezig Rioolaansluiting: aanwezig Kozijnen: houten kozijnen Isolatie: HR++ beglazing, dak van tuinberging is voorzien van unidekplaten  Installaties: Centrale verwarming: Remeha Avanta HR-combi-ketel, eigendom (bouwjaar 2023) Warm water voorziening: middels de cv-installatie  Indeling: \\\\u2022 Kelder:  Vanuit de entree is er toegang tot de provisiekelder van ca. 28 m\\\\u00b2, alwaar de cv-installatie zich bevindt.  \\\\u2022 Begane grond: Aan de voorzijde, met zicht op de sluis en de Zuid-Willemsvaart, bevindt zich de entree van de woning. De entree met meterkast is in het midden van de woning gelegen, van waaruit de woonkamer, keuken, toiletruimte en badkamer te bereiken zijn. De woonkamer van ca. 19 m\\\\u00b2 bevindt zich aan de linkerzijde. Aan de overzijde aan de rechterkant bevindt zich de gesloten keukenruimte van ca. 19 m\\\\u00b2, welke voorzien is van een aanbouwkeuken met oven, 4-pits gaskookplaat, afzuigkap en gootsteen. Aan het einde van de entree bevindt zich een portaal van waaruit de tuin toegankelijk is en alwaar de toiletruimte en badkamer zich bevinden. De badkamer is voorzien van een douche en een vaste wastafel.  \\\\u2022 1e verdieping: De authentieke trap leidt u naar de eerste verdieping, alwaar via de overloop 2 slaapkamers en de badkamer te bereiken zijn. Slaapkamer I van ca. 19 m\\\\u00b2 is voorzien van een laminaatvloer. Slaapkamer II van ca. 19 m\\\\u00b2 is voorzien van vloerbedekking. De halfhoog betegelde badkamer van ca. 2 m\\\\u00b2 is voorzien van een douche en vaste wastafel.  \\\\u2022 2e verdieping: De authentieke trap leidt u verder naar de tweede verdieping, alwaar via de overloop eveneens 2 slaapkamers en de toiletruimte met fonteintje te bereiken zijn. Slaapkamer III van ca. 19 m\\\\u00b2 is voorzien van een laminaatvloer, keukenblok met gootsteen en een dakkapel aan de voor- en achterzijde. Slaapkamer IV van ca. 19 m\\\\u00b2 is voorzien van een laminaatvloer en heeft eveneens een dakkapel aan de voor- en achterzijde. De halfhoog betegelde badkamer van ca. 2 m\\\\u00b2 is voorzien van een douche en vaste wastafel.  \\\\u2022 Bijgebouwen: De naast de woning gelegen berging van ca. 20 m\\\\u00b2 is voorzien van een toegangsdeur, te bereiken via de zijgevel.  \\\\u2022 Tuin: Achter en aan de linkerzijde van de woning is de tuin bereikbaar alwaar de stenen berging gelegen is en er toegang is tot de straat.  Ligging: De wijk Boschpoort is gunstig gelegen ten opzichte van het centrum van Maastricht, deze is namelijk op loop- en fietsafstand gelegen. Daarnaast zijn ook Smeermaas en Lanaken makkelijk te bereiken. Ook zijn er goede verbindingen met uitvalswegen richting Eindhoven-Luik (A2) en Valkenburg-Heerlen-Aachen (A79). Diverse voorzieningen waaronder winkels, recreatie en spotfaciliteiten zijn in de directe omgeving aanwezig.  Verkoopvoorwaarden en overige informatie: - Zowel de opkoopbescherming van de Gemeente Maastricht, als de zelfbewoningsplicht is bij de verkoop van deze woning van toepassing.  - Iedere belangstellende kan zijn interesse tot aankoop kenbaar maken. Deze interesse, vertaald in een \\\\u00e9\\\\u00e9nmalig bod, dient schriftelijk v\\\\u00f3\\\\u00f3r WOENSDAG 1 MEI 2024, 12.00 uur, kenbaar gemaakt te worden bij Notariskantoor VHN NOTARISSEN, ALEXANDER BATTALAAN 44 te 6221 CE Maastricht in een gesloten envelop (persoonlijk of aangetekend) ter attentie van Belv\\\\u00e9d\\\\u00e8re Wijkontwikkelingsmaatschappij BV onder vermelding van \\\\u201cbod Bosscherweg 36 Maastricht\\\\u201d.  - Dit eenmalig bod, lees de ultieme bieding, dient inclusief eventuele ontbindende voorwaarden zoals voorbehoud financiering (hoogte financiering en datum ontbindende voorwaarde) of andere voorwaarden te zijn. Bij het uitbrengen van het bod verzoeken wij u om bijgaand biedingsformulier en Bibob quickscan formulier te gebruiken;  - Op deze verkoop zijn de Algemene voorwaarden voor de verkoop van onroerende zaken door de gemeente Maastricht van toepassing  - Uitnodiging: Deze informatie wordt aan meerdere personen verstrekt, aan deze gegevens kunnen geen rechten worden ontleend. De aanbieding van dit object dient te worden gezien als een uitnodiging om een schriftelijke bieding te doen.  - Gunning: Verkoper behoudt zich het recht voor het object te gunnen aan de gegadigde met de hoogste bieding. Verkoper behoudt zich het recht om niet te gunnen.  - Overeenkomst: Koper kan aan een mondelinge overeenkomst geen rechten ontlenen, verkoper behoudt zich tot dat er tussen partijen een schriftelijke overeenkomst tot stand is gekomen alle rechten voor. Verkoper is pas gehouden aan de overeenkomst nadat de akte door beide partijen is getekend. Een eventuele overeenkomst komt pas tot stand en aan de inhoud ervan kunnen pas rechten worden ontleend nadat is voldaan aan de navolgende cumulatieve eisen, te weten;   a. ondertekening door koper;   b. door of namens het College van Burgemeester en Wethouders het aangaan van deze overeenkomst wordt        goedgekeurd;   c. een formeel en onvoorwaardelijk besluit van de Algemene Vergadering van Aandeelhouders Belv\\\\u00e9d\\\\u00e8re        Wijkontwikkelingsmaatschappij B.V. dat expliciet is gericht op het aangaan van deze overeenkomst;   d. de overeenkomst namens Verkoper is ondertekend.  - Koopakte: Behoudens nadere afspraken gelden de standaardregels zoals deze voorkomen in de model-koopakte, die is opgesteld door de Nederlandse Vereniging van Makelaars NVM, de consumentenbonden en de Vereniging Eigen Huis.    Eventueel door de koper te maken voorbehouden worden alleen opgenomen als deze in de bieding zijn opgenomen.  - Integriteitsclausule:   a. Op deze overeenkomst is de \\\\u201cBeleidsregel voor de toepassing van de Wet Bevordering Integriteitsbeoordelingen door het openbaar bestuur gemeente Maastricht\\\\u201d vastgesteld door het College van Burgemeester en Wethouders op 27 juni 2023, van toepassing. Door ondertekening verklaart koper kennis te        hebben genomen van deze beleidsregel. In deze beleidsregel is opgenomen dat bij vastgoedtransacties waarbij de gemeente onroerend goed verkoopt in beginsel een Bibob-toets kan plaatsvinden. Koper dient hiervoor het bijgevoegde quickscan formulier in te vullen zoals bij deze overeenkomst gevoegd.   b. Verkoper kan deze overeenkomst onmiddellijk en naar eigen keuze ontbinden, zonder gehouden te zijn tot       vergoeding van eventuele schade en zonder daarbij een termijn in acht te hoeven nemen, voor zover:      a. er sprake is van een ernstig of een mindere mate van gevaar dat de vastgoedtransactie als gevolg van deze overeenkomst mede zal worden gebruikt om uit gepleegde strafbare feiten verkregen of te verkrijgen, op geld waardeerbare voordelen te benutten;      b. er sprake is van feiten en omstandigheden die erop wijzen of redelijkerwijs doen vermoeden dat verkoper in relatie staat tot strafbare feiten;      c. er sprake is van feiten en omstandigheden die erop wijzen of redelijkerwijs doen vermoeden dat ter vervreemding dan wel verkrijging van deze vastgoedtransactie een strafbaar feit is gepleegd;      d. koper heeft nagelaten de vragen die hem door de gemeente zijn gesteld op grond van artikel 30 Wet Bibob, volledig en naar waarheid te beantwoorden, of       e. koper heeft nagelaten de vragen die hem door het Landelijk Bureau Bibob zijn gesteld op grond van artikel 12, vierde lid Wet Bibob, volledig en naar waarheid te beantwoorden.   c. De begrippen ernstig gevaar, mindere mate van gevaar, strafbare feiten, in relatie staan tot en feiten en omstandigheden die erop wijzen of redelijkerwijs doen vermoeden, hebben in deze overeenkomst de betekenis die hen in de Wet Bibob toekomt.   d. Verkoper kan het Landelijk Bureau Bibob met het oog op diens taak zoals bedoeld in artikel 9, derde lid Wet Bibob, om advies vragen.  Inlichtingen: Indien u meer wilt weten over het object of een bezichtiging wilt aanvragen, kunt u contact opnemen met ons kantoor te Margraten, bereikbaar op telefoonnummer: 043 30 30 117.  Deze informatie is door ons met de nodige zorgvuldigheid samengesteld. Onzerzijds wordt echter geen enkele aansprakelijkheid aanvaard voor enige onvolledigheid, onjuistheid of anderszins, dan wel de gevolgen daarvan.  Alle maten zijn bij benadering weergegeven. Deze aanbieding mag slechts worden gezien als een uitnodiging tot bezichtiging.\", \"row\": 0, \"house_id\": \"43420586\", \"url\": \"https://www.funda.nl/koop/maastricht/huis-43420586-bosscherweg-36/\", \"city\": \"maastricht\", \"house_type\": \"huis\", \"building_type\": \"Bestaande bouw\", \"price\": \"350000\", \"price_m2\": \"2464.8\", \"room\": \"6\", \"bedroom\": \"4\", \"bathroom\": \"2\", \"living_area\": \"142\", \"energy_label\": \"na\", \"zip\": \"6219\", \"address\": \"Bosscherweg 36\", \"year_built\": \"1965\", \"house_age\": \"59\"}, \"type\": \"Document\"}'"
      ]
     },
     "execution_count": 12,
     "metadata": {},
     "output_type": "execute_result"
    }
   ],
   "source": [
    "houses[0].json()"
   ]
  },
  {
   "cell_type": "code",
   "execution_count": 2,
   "metadata": {},
   "outputs": [],
   "source": [
    "# from langchain_community.document_transformers.openai_functions import (\n",
    "#     create_metadata_tagger,\n",
    "# )\n",
    "# from langchain_core.documents import Document\n",
    "# from langchain_openai import ChatOpenAI\n",
    "\n",
    "# schema = {\n",
    "#     \"properties\": {\n",
    "#         \"critic\": {\"type\": \"string\"},\n",
    "#         \"tone\": {\"type\": \"string\", \"enum\": [\"positive\", \"negative\"]},\n",
    "#         \"rating\": {\n",
    "#         \"movie_title\": {\"type\": \"string\"},\n",
    "#             \"type\": \"integer\",\n",
    "#             \"description\": \"The number of stars the critic rated the movie\",\n",
    "#         },\n",
    "#     },\n",
    "#     \"required\": [\"movie_title\", \"critic\", \"tone\"],\n",
    "# }\n",
    "\n",
    "# Must be an OpenAI model that supports functions\n",
    "# llm = ChatOpenAI(temperature=0, model=\"gpt-3.5-turbo-0613\")\n",
    "\n",
    "# document_transformer = create_metadata_tagger(metadata_schema=schema, llm=llm)"
   ]
  },
  {
   "cell_type": "code",
   "execution_count": 13,
   "metadata": {},
   "outputs": [],
   "source": [
    "persist_directory = './data/vecdb/'\n",
    "\n",
    "## Here is the nmew embeddings being used\n",
    "embedding = OpenAIEmbeddings()\n",
    "\n",
    "db = Chroma.from_documents(documents=houses, \n",
    "                            embedding=embedding,\n",
    "                            persist_directory=persist_directory,\n",
    "                            )\n",
    "\n",
    "db.persist()"
   ]
  },
  {
   "cell_type": "code",
   "execution_count": 3,
   "metadata": {},
   "outputs": [],
   "source": [
    "from langchain_openai.embeddings import OpenAIEmbeddings\n",
    "from langchain_community.vectorstores import Chroma\n",
    "\n",
    "persist_directory = './data/vecdb/'\n",
    "\n",
    "db = Chroma(persist_directory=persist_directory, \n",
    "            embedding_function=OpenAIEmbeddings())"
   ]
  },
  {
   "cell_type": "code",
   "execution_count": 19,
   "metadata": {},
   "outputs": [
    {
     "name": "stdout",
     "output_type": "stream",
     "text": [
      "(Document(page_content=\"house_id: 43414815\\nurl: https://www.funda.nl/koop/maastricht/appartement-43414815-aldenhofpark-1-a03/\\ncity: maastricht\\nhouse_type: appartement\\nbuilding_type: Bestaande bouw\\nprice: 475000\\nprice_m2: 6250.0\\nroom: 3\\nbedroom: 2\\nbathroom: 1\\nliving_area: 76\\nenergy_label: na\\nzip: 6211\\naddress: Aldenhofpark 1 a03\\nyear_built: 1915\\nhouse_age: 109\\ndescrip: MAASTRICHT (Jekerkwartier) -  In  het charmante  Jekerkwartier, direct  aan het stadspark van  Maastricht  op de 2e etage  gelegen instapklaar hoekappartement met  2 slaapkamers en  balkon  en een fantastisch  uitzicht op  de  kenmerkende  historische skyline met o.a. de torens van de Sint Janskerk en de Sint Servaeskerk aan het Vrijthof in Maastricht. Vanuit hier loop je zó het bruisende centrum in terwijl je niet direct de drukte van de binnenstad ervaart.  De ligging is werkelijk op een toplocatie, het onderhoud is uitstekend, de indeling zoals je het wenst: voorzien van een ruime living met uitstekende lichtinval mede dankzij de hoekerker en de open keuken, twee gerieflijke slaapkamers, een doucheruimte en een wasruimte en een heerlijk knus balkon op het zuidoosten met uitzicht op de historische stadsmuur en het bronzen beeld van d'Artagnan. De authentieke trap leidt u naar de woonverdieping, in het souterrain is een ruime berging gelegen.  De vele ramen bieden een decor van de historie van Maastricht. Het appartement is afgewerkt met een prachtige doorlopende eikenhouten parketvloer, strak gestukadoorde wanden en plafonds, een moderne en complete keukeninrichting en authentieke binnendeuren. Het wooncomplex is aangemerkt als Gemeentelijk Monument, dominant bouwwerk, wat impliceert dat het interieur én het exterieur beschermde details geniet zoals het keramische bezienswaardige tegeltableau van d'Artagnan en het glasmozaïek in de zijgevel, aangezien hier vroeger een glasatelier was gevestigd.  INDELING Souterrain (van het complex): Vanuit de Tongersestraat is er toegang tot het souterrain, waarin alle 4 de appartementen een eigen afsluitbare ruime en droge berging (ca. 15 m²) hebben voor bijvoorbeeld het stallen van fietsen.  Begane grond (van het complex): De entree biedt ruimte voor de meterkasten van 3 appartementen en de authentieke houten trap welke gedeeld wordt door in totaal 3 appartementseigenaren.  Tweede verdieping (van het complex): De ruime entree/hal van het appartement heeft een centrale ligging in het appartement, heeft een garderobe en intercom en geeft toegang tot de toiletruimte, woonkamer, cv-ruimte, doucheruimte en de twee slaapkamers. De volledig betegelde toiletruimte is voorzien van een vrijhangend closet met inbouwreservoir en fonteintje. De riante, zeer heldere woonkamer (ca. 35 m²) biedt een open keuken (ca. 6 m²), met een fenomenaal uitzicht richting het stadscentrum en het Aldenhofpark. De keukeninrichting is uit 2008, hoekopstelling, onder meer voorzien van een kunststof werkblad met een 4-pits gasfornuis, vrijhangende RVS afzuigkap, RVS spoelbak, koelkast, vriezer, vaatwasser en oven. Cv-ruimte met HR CV-combiketel (bj. 2016, eigendom) en witgoedaansluiting. De volledig betegelde doucheruimte beschikt over een wastafel in badkamermeubel en een douchecabine. De twee slaapkamers (resp. ca. 7,5 en 12 m²) zijn beiden aan de zuidoostzijde gelegen, waarbij de grote slaapkamer toegang geeft tot het balkon. Het zonnige balkon, groot ca. 5,5 m2, is gelegen op het zuiden en biedt een heerlijk uitzicht op het rustige stadspark.  OMGEVING Gelegen op een zichtlocatie, in het stadcentrum met enerzijds zicht op het Aldenhofpark met haar historische stadsmuur en het veelbesproken standbeeld van d'Artagnan, anderzijds is er een prachtig zicht op de lommerrijke Tongersestraat. Het historische centrum is op een steenworp afstand en de iets verder gelegen Prins Bisschopsingel heeft directe verbindingen met de snelweg A2 en bushaltes naar o.a. het MUMC+, diverse faculteiten van Maastricht University zijn lopend of met de fiets uitstekend te bereiken.  BIJZONDERHEDEN: - Het gebouw dateert uit 1915, deel van de fundamenten dateren mogelijk uit 1678, aangemerkt als Gemeentelijk Monument; - Zowel de gehele buitenzijde als het appartement zijn volledig gerenoveerd en in uitstekende onderhouden staat; - Rondom voorzien van hardhouten kozijnen met HR++ beglazing; - Behoudens de toiletruimte en badkamer, is het gehele appartement voorzien van een doorlopende eikenhouten parketvloer; - De maandelijkse bijdrage voor de VvE bedraagt € 139,- per maand, meer informatie via de makelaar.  BEZICHTIGING Uitsluitend op afspraak via makelaarskantoor TIM Vastgoed, tel. 043-3506900.  TOELICHTING OP VERKOOPINFORMATIE Hiervoor verwijzen wij je naar onze website, waar onze toelichting op verkoopinformatie te vinden is.\", metadata={'row': 8, 'source': './data/houses_buy_test.csv'}), 0.31277820467948914)\n"
     ]
    }
   ],
   "source": [
    "query = \"Student housing in Maastricht\"\n",
    "docs = db.similarity_search_with_score(query)\n",
    "print(docs[0])"
   ]
  },
  {
   "cell_type": "code",
   "execution_count": 13,
   "metadata": {},
   "outputs": [],
   "source": [
    "import os\n",
    "# langsmith traces\n",
    "\n",
    "os.environ[\"LANGCHAIN_TRACING_V2\"]=\"true\"\n",
    "os.environ[\"LANGCHAIN_ENDPOINT\"]=\"https://api.smith.langchain.com\"\n",
    "os.environ[\"LANGCHAIN_API_KEY\"]=\"ls__720c11f30f434eaaa6fff81cd608995d\"\n",
    "os.environ[\"LANGCHAIN_PROJECT\"]=\"housearch\""
   ]
  },
  {
   "cell_type": "code",
   "execution_count": 38,
   "metadata": {},
   "outputs": [],
   "source": [
    "from langchain import hub\n",
    "from langchain_core.runnables import RunnablePassthrough\n",
    "from langchain.schema import StrOutputParser\n",
    "from langchain_openai import ChatOpenAI\n",
    "from langchain_core.prompts import PromptTemplate\n",
    "\n",
    "retriever = db.as_retriever()\n",
    "real_estate_prompt = PromptTemplate.from_template(\"\"\"\n",
    "Query: {query}\n",
    "\n",
    "Listings:\n",
    "{listings}\n",
    "\n",
    "The query contains a description of the desired property features and search criteria. Please evaluate how relevant each real estate listing is to the full query on a scale of 1 to 5, where:\n",
    "\n",
    "1 = Not relevant at all\n",
    "2 = Slightly relevant \n",
    "3 = Moderately relevant\n",
    "4 = Very relevant\n",
    "5 = Extremely relevant\n",
    "\n",
    "Provide a numeric rating for each listing and give a qualitative short overview of how the returned houses differ:\n",
    "\"\"\")\n",
    "\n",
    "llm = ChatOpenAI(model_name=\"gpt-3.5-turbo\", temperature=0)\n",
    "\n",
    "def format_docs(docs):\n",
    "    return \"\\n\\n\".join(str(doc) for doc in docs)\n",
    "\n",
    "\n",
    "rag_chain = (\n",
    "    {\"listings\": retriever | format_docs, \"query\": RunnablePassthrough()}\n",
    "    | real_estate_prompt\n",
    "    | llm\n",
    "    | StrOutputParser()\n",
    ")"
   ]
  },
  {
   "cell_type": "code",
   "execution_count": 42,
   "metadata": {},
   "outputs": [],
   "source": [
    "from langfuse.callback import CallbackHandler\n",
    "langfuse_handler = CallbackHandler(\n",
    "    public_key=\"pk-lf-f268dce1-a3f7-467e-8105-fb87b2a3e19e\",\n",
    "    secret_key=\"sk-lf-bf2e21cd-7682-4a3f-9f2c-94655216cb3c\",\n",
    "    host=\"https://cloud.langfuse.com\"\n",
    ")"
   ]
  },
  {
   "cell_type": "code",
   "execution_count": 43,
   "metadata": {},
   "outputs": [
    {
     "name": "stderr",
     "output_type": "stream",
     "text": [
      "/home/user/documents/housescrape-backend/.venv/lib/python3.10/site-packages/langchain_core/_api/beta_decorator.py:86: LangChainBetaWarning: The function `loads` is in beta. It is actively being worked on, so the API may change.\n",
      "  warn_beta(\n"
     ]
    },
    {
     "data": {
      "text/plain": [
       "'1st listing: \\nRating: 3\\nOverview: This listing is moderately relevant as it meets most of the criteria such as having 2 bedrooms, being close to public transport, and being furnished. However, it is slightly above the maximum budget specified.\\n\\n2nd listing:\\nRating: 4\\nOverview: This listing is very relevant as it meets all the criteria specified in the query, including having 2 bedrooms, being close to public transport, within budget, furnished, and available for sharing.\\n\\n3rd listing:\\nRating: 2\\nOverview: This listing is slightly relevant as it has 3 bedrooms instead of 2, but it is within budget, furnished, and located close to the city center. It does not specify if it is available for sharing.'"
      ]
     },
     "execution_count": 43,
     "metadata": {},
     "output_type": "execute_result"
    }
   ],
   "source": [
    "rag_chain.invoke(\"\"\"2 yatak odalı\n",
    "Maastricht universitesine yakın veya toplu taşıma ile 20dk mesafede\n",
    "EUR 165000 max ücreti olan\n",
    "Furnished\n",
    "Paylaşima açık\n",
    "öğrenci kabul eden\n",
    "İlana max son 1 haftada çıkmış\n",
    "Kiralık mülkler\"\"\", config={\"callbacks\": [langfuse_handler]})"
   ]
  },
  {
   "cell_type": "code",
   "execution_count": 24,
   "metadata": {},
   "outputs": [],
   "source": [
    "# TODO: Reading metada sometimes failes in db (as in page content has metadata)\n",
    "docs = retriever.invoke(test_prompt)"
   ]
  },
  {
   "cell_type": "code",
   "execution_count": 26,
   "metadata": {},
   "outputs": [
    {
     "data": {
      "text/plain": [
       "'page_content=\\'descrip: DEZE WONING WORDT  AANGEBODEN  DOOR POOTERS  MAKELAARDIJ Sfeervol  appartement gelegen in het  centrum  van Maastricht in een  autovrij gebied tussen de  Markt het gezellige  Bassin.  Het appartement beschikt  over een  woonkamer  met  open keuken, 2 slaapkamers, badkamer, ruime zolderberging en een loggia.  Indeling:  Souterrain: Onder het complex bevindt zich een privé berging (circa 3m²).  Begane grond: Via de keurige entree met bellentableau is het complex te bereiken. Met lift of via trappenhuis ga je naar de verschillende verdiepingen.  Derde verdieping: Via de entree met tegelvloer is het appartement te bereiken. Op deze verdieping is de badkamer gesitueerd en de twee slaapkamers. De badkamer (5m²) is voorzien van een ligbad met douche, vaste wastafel en een toilet. Beide slaapkamers zijn aan de achterzijde gelegen en respectievelijk 8m² en 7m² groot.  Tweede verdieping (woonniveau) Middels een trap in de entree/hal (8m²) is deze verdieping te bereiken. Aankomend in de woonkamer (28m²) valt direct het lichtinval op. Vanuit de woonkamer met tegelvoer is de open keuken, ruime berging en de loggia te bereiken. De woonkamer is ruim van opzet en verdeelt in een zit- en eetgedeelte. In de loggia (4m²) kunt u heerlijk buiten zitten en nagenieten van de drukke (werk)dag. De eenvoudige keuken (7m²) in hoekopstelling is voorzien van de volgende (inbouwapparatuur) te weten: 4-pits gasfornuis met afzuigkap, koel-/ vriescombinatie, combi oven en magnetron. Aansluitend ruime berging (6m²) met wasmachineaansluiting. Hier is eveneens de c.v. installatie geplaatst. Deze ruimte is ook goed te gebruiken als voorraad-/provisieruimte en/of voor het plaatsen van een diepvries.  Vierde verdieping: Middels een trap in de entree/hal is deze zolderberging (8m²) te bereiken welke voor meerdere doeleinden te gebruiken is.  Extra informatie: - Voorzien van houten en kunststof kozijnen. Deels met dubbele beglazing. - Privé berging in het souterrain. - De woonkamer is voorzien van een tegelvloer en de slaapkamers van een laminaatvloer. - De erfpacht canon bedraagt € 65,24 per maand. - De servicekosten bedragen € 167,89,- per maand, incl. water, reservering groot onderhoud, opstalverzekering en schoonmaakkosten algemene ruimtes. - Verwarming en warm water wordt verkregen middels een combiketel (Intergas HRE; bj. 2023; huur). Feenstra € 34,95 per maand. - Een plaats in de parkeergarage Boschstraat Oost kan gehuurd worden bij Q-Park. Ook is het mogelijk, een vergunning bij de gemeente aan te vragen voor een bewonersparkeerplaats. - Definitief energielabel \\\\\\'C\\\\\\'.  Algemene informatie: Het appartement ligt in de oude binnenstad in een autovrije straat aan de rand van het Sphinxkwartier, de nieuwe culturele hotspot van Maastricht. Op loopafstand liggen \\\\\\'Vrijthof\\\\\\', \\\\\\'Markt\\\\\\', \\\\\\'Bioscopen\\\\\\', \\\\\\'Theater\\\\\\', Poppodium \\\\\\'de Muziekgieterij\\\\\\', \\\\\\'Onze Lieve Vrouwenplein\\\\\\', Frontenpark en het winkelcentrum. Ruim aanbod aan openbaar vervoer op 2 minuten loopafstand.  Ter bescherming van de belangen van zowel koper als verkoper, wordt uitdrukkelijk gesteld dat een koopovereenkomst met betrekking tot deze onroerende zaak eerst dan tot stand komt nadat koper en verkoper de koopovereenkomst hebben getekend (\"schriftelijkheidsvereiste\").De termijn die wordt opgenomen voor eventuele (overeengekomen) ontbindende voorwaarden (bv. Financiering) is in de regel 4 tot 6 weken na het sluiten van de mondelinge wilsovereenkomst.  De waarborgsom/bankgarantie is 10% van de koopsom. De koper dient deze 2 weken ná het vervallen van de ontbindende voorwaarden bij de desbetreffende notaris te deponeren.  Koper is te allen tijde gerechtigd voor eigen rekening een bouwkundige keuring te (laten) verrichten dan wel andere adviseurs te raadplegen teneinde een goed inzicht te verkrijgen over de staat van onderhoud.  Bovenstaande vrijblijvende informatie is door Pooters Makelaardij met de nodige zorgvuldigheid samengesteld. Echter aanvaardt Pooters Makelaardij geen enkele aansprakelijkheid voor enige onvolledigheid, onjuistheid of anderszins, dan wel de gevolgen daarvan. Oppervlakten en maten zijn indicatief.\\' metadata={\\'address\\': \\'Hoograamstraat 114\\', \\'bathroom\\': \\'1\\', \\'bedroom\\': \\'2\\', \\'building_type\\': \\'Bestaande bouw\\', \\'city\\': \\'maastricht\\', \\'energy_label\\': \\'C\\', \\'house_age\\': \\'39\\', \\'house_id\\': \\'43425671\\', \\'house_type\\': \\'appartement\\', \\'living_area\\': \\'71\\', \\'price\\': \\'275000\\', \\'price_m2\\': \\'3873.2\\', \\'room\\': \\'4\\', \\'row\\': 2, \\'source\\': \\'DEZE WONING WORDT  AANGEBODEN  DOOR POOTERS  MAKELAARDIJ Sfeervol  appartement gelegen in het  centrum  van Maastricht in een  autovrij gebied tussen de  Markt het gezellige  Bassin.  Het appartement beschikt  over een  woonkamer  met  open keuken, 2 slaapkamers, badkamer, ruime zolderberging en een loggia.  Indeling:  Souterrain: Onder het complex bevindt zich een privé berging (circa 3m²).  Begane grond: Via de keurige entree met bellentableau is het complex te bereiken. Met lift of via trappenhuis ga je naar de verschillende verdiepingen.  Derde verdieping: Via de entree met tegelvloer is het appartement te bereiken. Op deze verdieping is de badkamer gesitueerd en de twee slaapkamers. De badkamer (5m²) is voorzien van een ligbad met douche, vaste wastafel en een toilet. Beide slaapkamers zijn aan de achterzijde gelegen en respectievelijk 8m² en 7m² groot.  Tweede verdieping (woonniveau) Middels een trap in de entree/hal (8m²) is deze verdieping te bereiken. Aankomend in de woonkamer (28m²) valt direct het lichtinval op. Vanuit de woonkamer met tegelvoer is de open keuken, ruime berging en de loggia te bereiken. De woonkamer is ruim van opzet en verdeelt in een zit- en eetgedeelte. In de loggia (4m²) kunt u heerlijk buiten zitten en nagenieten van de drukke (werk)dag. De eenvoudige keuken (7m²) in hoekopstelling is voorzien van de volgende (inbouwapparatuur) te weten: 4-pits gasfornuis met afzuigkap, koel-/ vriescombinatie, combi oven en magnetron. Aansluitend ruime berging (6m²) met wasmachineaansluiting. Hier is eveneens de c.v. installatie geplaatst. Deze ruimte is ook goed te gebruiken als voorraad-/provisieruimte en/of voor het plaatsen van een diepvries.  Vierde verdieping: Middels een trap in de entree/hal is deze zolderberging (8m²) te bereiken welke voor meerdere doeleinden te gebruiken is.  Extra informatie: - Voorzien van houten en kunststof kozijnen. Deels met dubbele beglazing. - Privé berging in het souterrain. - De woonkamer is voorzien van een tegelvloer en de slaapkamers van een laminaatvloer. - De erfpacht canon bedraagt € 65,24 per maand. - De servicekosten bedragen € 167,89,- per maand, incl. water, reservering groot onderhoud, opstalverzekering en schoonmaakkosten algemene ruimtes. - Verwarming en warm water wordt verkregen middels een combiketel (Intergas HRE; bj. 2023; huur). Feenstra € 34,95 per maand. - Een plaats in de parkeergarage Boschstraat Oost kan gehuurd worden bij Q-Park. Ook is het mogelijk, een vergunning bij de gemeente aan te vragen voor een bewonersparkeerplaats. - Definitief energielabel \\\\\\'C\\\\\\'.  Algemene informatie: Het appartement ligt in de oude binnenstad in een autovrije straat aan de rand van het Sphinxkwartier, de nieuwe culturele hotspot van Maastricht. Op loopafstand liggen \\\\\\'Vrijthof\\\\\\', \\\\\\'Markt\\\\\\', \\\\\\'Bioscopen\\\\\\', \\\\\\'Theater\\\\\\', Poppodium \\\\\\'de Muziekgieterij\\\\\\', \\\\\\'Onze Lieve Vrouwenplein\\\\\\', Frontenpark en het winkelcentrum. Ruim aanbod aan openbaar vervoer op 2 minuten loopafstand.  Ter bescherming van de belangen van zowel koper als verkoper, wordt uitdrukkelijk gesteld dat een koopovereenkomst met betrekking tot deze onroerende zaak eerst dan tot stand komt nadat koper en verkoper de koopovereenkomst hebben getekend (\"schriftelijkheidsvereiste\").De termijn die wordt opgenomen voor eventuele (overeengekomen) ontbindende voorwaarden (bv. Financiering) is in de regel 4 tot 6 weken na het sluiten van de mondelinge wilsovereenkomst.  De waarborgsom/bankgarantie is 10% van de koopsom. De koper dient deze 2 weken ná het vervallen van de ontbindende voorwaarden bij de desbetreffende notaris te deponeren.  Koper is te allen tijde gerechtigd voor eigen rekening een bouwkundige keuring te (laten) verrichten dan wel andere adviseurs te raadplegen teneinde een goed inzicht te verkrijgen over de staat van onderhoud.  Bovenstaande vrijblijvende informatie is door Pooters Makelaardij met de nodige zorgvuldigheid samengesteld. Echter aanvaardt Pooters Makelaardij geen enkele aansprakelijkheid voor enige onvolledigheid, onjuistheid of anderszins, dan wel de gevolgen daarvan. Oppervlakten en maten zijn indicatief.\\', \\'url\\': \\'https://www.funda.nl/koop/maastricht/appartement-43425671-hoograamstraat-114/\\', \\'year_built\\': \\'1985\\', \\'zip\\': \\'6211\\'}\\n\\npage_content=\"descrip: MAASTRICHT (Jekerkwartier) -  In  het charmante  Jekerkwartier, direct  aan het stadspark van  Maastricht  op de 2e etage  gelegen instapklaar hoekappartement met  2 slaapkamers en  balkon  en een fantastisch  uitzicht op  de  kenmerkende  historische skyline met o.a. de torens van de Sint Janskerk en de Sint Servaeskerk aan het Vrijthof in Maastricht. Vanuit hier loop je zó het bruisende centrum in terwijl je niet direct de drukte van de binnenstad ervaart.  De ligging is werkelijk op een toplocatie, het onderhoud is uitstekend, de indeling zoals je het wenst: voorzien van een ruime living met uitstekende lichtinval mede dankzij de hoekerker en de open keuken, twee gerieflijke slaapkamers, een doucheruimte en een wasruimte en een heerlijk knus balkon op het zuidoosten met uitzicht op de historische stadsmuur en het bronzen beeld van d\\'Artagnan. De authentieke trap leidt u naar de woonverdieping, in het souterrain is een ruime berging gelegen.  De vele ramen bieden een decor van de historie van Maastricht. Het appartement is afgewerkt met een prachtige doorlopende eikenhouten parketvloer, strak gestukadoorde wanden en plafonds, een moderne en complete keukeninrichting en authentieke binnendeuren. Het wooncomplex is aangemerkt als Gemeentelijk Monument, dominant bouwwerk, wat impliceert dat het interieur én het exterieur beschermde details geniet zoals het keramische bezienswaardige tegeltableau van d\\'Artagnan en het glasmozaïek in de zijgevel, aangezien hier vroeger een glasatelier was gevestigd.  INDELING Souterrain (van het complex): Vanuit de Tongersestraat is er toegang tot het souterrain, waarin alle 4 de appartementen een eigen afsluitbare ruime en droge berging (ca. 15 m²) hebben voor bijvoorbeeld het stallen van fietsen.  Begane grond (van het complex): De entree biedt ruimte voor de meterkasten van 3 appartementen en de authentieke houten trap welke gedeeld wordt door in totaal 3 appartementseigenaren.  Tweede verdieping (van het complex): De ruime entree/hal van het appartement heeft een centrale ligging in het appartement, heeft een garderobe en intercom en geeft toegang tot de toiletruimte, woonkamer, cv-ruimte, doucheruimte en de twee slaapkamers. De volledig betegelde toiletruimte is voorzien van een vrijhangend closet met inbouwreservoir en fonteintje. De riante, zeer heldere woonkamer (ca. 35 m²) biedt een open keuken (ca. 6 m²), met een fenomenaal uitzicht richting het stadscentrum en het Aldenhofpark. De keukeninrichting is uit 2008, hoekopstelling, onder meer voorzien van een kunststof werkblad met een 4-pits gasfornuis, vrijhangende RVS afzuigkap, RVS spoelbak, koelkast, vriezer, vaatwasser en oven. Cv-ruimte met HR CV-combiketel (bj. 2016, eigendom) en witgoedaansluiting. De volledig betegelde doucheruimte beschikt over een wastafel in badkamermeubel en een douchecabine. De twee slaapkamers (resp. ca. 7,5 en 12 m²) zijn beiden aan de zuidoostzijde gelegen, waarbij de grote slaapkamer toegang geeft tot het balkon. Het zonnige balkon, groot ca. 5,5 m2, is gelegen op het zuiden en biedt een heerlijk uitzicht op het rustige stadspark.  OMGEVING Gelegen op een zichtlocatie, in het stadcentrum met enerzijds zicht op het Aldenhofpark met haar historische stadsmuur en het veelbesproken standbeeld van d\\'Artagnan, anderzijds is er een prachtig zicht op de lommerrijke Tongersestraat. Het historische centrum is op een steenworp afstand en de iets verder gelegen Prins Bisschopsingel heeft directe verbindingen met de snelweg A2 en bushaltes naar o.a. het MUMC+, diverse faculteiten van Maastricht University zijn lopend of met de fiets uitstekend te bereiken.  BIJZONDERHEDEN: - Het gebouw dateert uit 1915, deel van de fundamenten dateren mogelijk uit 1678, aangemerkt als Gemeentelijk Monument; - Zowel de gehele buitenzijde als het appartement zijn volledig gerenoveerd en in uitstekende onderhouden staat; - Rondom voorzien van hardhouten kozijnen met HR++ beglazing; - Behoudens de toiletruimte en badkamer, is het gehele appartement voorzien van een doorlopende eikenhouten parketvloer; - De maandelijkse bijdrage voor de VvE bedraagt € 139,- per maand, meer informatie via de makelaar.  BEZICHTIGING Uitsluitend op afspraak via makelaarskantoor TIM Vastgoed, tel. 043-3506900.  TOELICHTING OP VERKOOPINFORMATIE Hiervoor verwijzen wij je naar onze website, waar onze toelichting op verkoopinformatie te vinden is.\" metadata={\\'address\\': \\'Aldenhofpark 1 a03\\', \\'bathroom\\': \\'1\\', \\'bedroom\\': \\'2\\', \\'building_type\\': \\'Bestaande bouw\\', \\'city\\': \\'maastricht\\', \\'energy_label\\': \\'na\\', \\'house_age\\': \\'109\\', \\'house_id\\': \\'43414815\\', \\'house_type\\': \\'appartement\\', \\'living_area\\': \\'76\\', \\'price\\': \\'475000\\', \\'price_m2\\': \\'6250.0\\', \\'room\\': \\'3\\', \\'row\\': 8, \\'source\\': \"MAASTRICHT (Jekerkwartier) -  In  het charmante  Jekerkwartier, direct  aan het stadspark van  Maastricht  op de 2e etage  gelegen instapklaar hoekappartement met  2 slaapkamers en  balkon  en een fantastisch  uitzicht op  de  kenmerkende  historische skyline met o.a. de torens van de Sint Janskerk en de Sint Servaeskerk aan het Vrijthof in Maastricht. Vanuit hier loop je zó het bruisende centrum in terwijl je niet direct de drukte van de binnenstad ervaart.  De ligging is werkelijk op een toplocatie, het onderhoud is uitstekend, de indeling zoals je het wenst: voorzien van een ruime living met uitstekende lichtinval mede dankzij de hoekerker en de open keuken, twee gerieflijke slaapkamers, een doucheruimte en een wasruimte en een heerlijk knus balkon op het zuidoosten met uitzicht op de historische stadsmuur en het bronzen beeld van d\\'Artagnan. De authentieke trap leidt u naar de woonverdieping, in het souterrain is een ruime berging gelegen.  De vele ramen bieden een decor van de historie van Maastricht. Het appartement is afgewerkt met een prachtige doorlopende eikenhouten parketvloer, strak gestukadoorde wanden en plafonds, een moderne en complete keukeninrichting en authentieke binnendeuren. Het wooncomplex is aangemerkt als Gemeentelijk Monument, dominant bouwwerk, wat impliceert dat het interieur én het exterieur beschermde details geniet zoals het keramische bezienswaardige tegeltableau van d\\'Artagnan en het glasmozaïek in de zijgevel, aangezien hier vroeger een glasatelier was gevestigd.  INDELING Souterrain (van het complex): Vanuit de Tongersestraat is er toegang tot het souterrain, waarin alle 4 de appartementen een eigen afsluitbare ruime en droge berging (ca. 15 m²) hebben voor bijvoorbeeld het stallen van fietsen.  Begane grond (van het complex): De entree biedt ruimte voor de meterkasten van 3 appartementen en de authentieke houten trap welke gedeeld wordt door in totaal 3 appartementseigenaren.  Tweede verdieping (van het complex): De ruime entree/hal van het appartement heeft een centrale ligging in het appartement, heeft een garderobe en intercom en geeft toegang tot de toiletruimte, woonkamer, cv-ruimte, doucheruimte en de twee slaapkamers. De volledig betegelde toiletruimte is voorzien van een vrijhangend closet met inbouwreservoir en fonteintje. De riante, zeer heldere woonkamer (ca. 35 m²) biedt een open keuken (ca. 6 m²), met een fenomenaal uitzicht richting het stadscentrum en het Aldenhofpark. De keukeninrichting is uit 2008, hoekopstelling, onder meer voorzien van een kunststof werkblad met een 4-pits gasfornuis, vrijhangende RVS afzuigkap, RVS spoelbak, koelkast, vriezer, vaatwasser en oven. Cv-ruimte met HR CV-combiketel (bj. 2016, eigendom) en witgoedaansluiting. De volledig betegelde doucheruimte beschikt over een wastafel in badkamermeubel en een douchecabine. De twee slaapkamers (resp. ca. 7,5 en 12 m²) zijn beiden aan de zuidoostzijde gelegen, waarbij de grote slaapkamer toegang geeft tot het balkon. Het zonnige balkon, groot ca. 5,5 m2, is gelegen op het zuiden en biedt een heerlijk uitzicht op het rustige stadspark.  OMGEVING Gelegen op een zichtlocatie, in het stadcentrum met enerzijds zicht op het Aldenhofpark met haar historische stadsmuur en het veelbesproken standbeeld van d\\'Artagnan, anderzijds is er een prachtig zicht op de lommerrijke Tongersestraat. Het historische centrum is op een steenworp afstand en de iets verder gelegen Prins Bisschopsingel heeft directe verbindingen met de snelweg A2 en bushaltes naar o.a. het MUMC+, diverse faculteiten van Maastricht University zijn lopend of met de fiets uitstekend te bereiken.  BIJZONDERHEDEN: - Het gebouw dateert uit 1915, deel van de fundamenten dateren mogelijk uit 1678, aangemerkt als Gemeentelijk Monument; - Zowel de gehele buitenzijde als het appartement zijn volledig gerenoveerd en in uitstekende onderhouden staat; - Rondom voorzien van hardhouten kozijnen met HR++ beglazing; - Behoudens de toiletruimte en badkamer, is het gehele appartement voorzien van een doorlopende eikenhouten parketvloer; - De maandelijkse bijdrage voor de VvE bedraagt € 139,- per maand, meer informatie via de makelaar.  BEZICHTIGING Uitsluitend op afspraak via makelaarskantoor TIM Vastgoed, tel. 043-3506900.  TOELICHTING OP VERKOOPINFORMATIE Hiervoor verwijzen wij je naar onze website, waar onze toelichting op verkoopinformatie te vinden is.\", \\'url\\': \\'https://www.funda.nl/koop/maastricht/appartement-43414815-aldenhofpark-1-a03/\\', \\'year_built\\': \\'1915\\', \\'zip\\': \\'6211\\'}\\n\\npage_content=\\'house_id: 43422414\\\\nurl: https://www.funda.nl/koop/maastricht/appartement-43422414-roserije-208-c/\\\\ncity: maastricht\\\\nhouse_type: appartement\\\\nbuilding_type: Bestaande bouw\\\\nprice: 199000\\\\nprice_m2: 2884.1\\\\nroom: 3\\\\nbedroom: 2\\\\nbathroom: 1\\\\nliving_area: 69\\\\nenergy_label: B\\\\nzip: 6228\\\\naddress: Roserije 208 C\\\\nyear_built: 1981\\\\nhouse_age: 43\\\\ndescrip: IN DE VERKOOP  BIJ  KH-SOLUTIONS MAKELAARS.   Starters  opgelet! Ben jij op  zoek  naar een twee slaapkamer appartement op  de tweede verdieping (met lift)  van  het appartementencomplex Roserije – De  Heeg?  Zie  jij jezelf hier al genieten op het ruime balkon met een fijn uitzicht? Dan is dit appartement wellicht iets voor jou.   Omgeving Dit appartement bevindt zich in de geliefde wijk De Heeg. Zeer gunstig gelegen ten opzichte van diverse voorzieningen en faciliteiten zoals supermarkt(en), scholen, openbaar vervoer en bedrijven zoals het MECC, Vodafone en MUMC+. Het bruisende stadscentrum van Maastricht is op ca. 10 minuten fietsafstand gelegen. Ook de autosnelwegen zijn snel te bereiken richting Eindhoven, Heerlen, Luik en Aken.    INDELING  Souterrain  Privéberging (ca. 4 m²) en twee gezamenlijke fietsenbergingen inpandig.  Het complex is voorzien van een lift.   Appartement Entree/hal met garderobe en toegang tot de woonkamer. De woonkamer v.v. een erker met halfopen keuken is voorzien van een laminaatvloer. De erker zorgt voor veel lichtinval en sfeer. Vanuit de woonkamer is er toegang tot het ruime balkon, waar het heerlijk zitten is. Het balkon is gelegen op het zuidwesten waardoor je kunt genieten van de middag- en avondzon. Een halfopen keuken met werkblad v.v. 4-pits gas kookplaat, spoelbak, oven en afzuigkap en ruimte voor een losse koelkast en/of vriezer. Via het tussenportaal tref je twee slaapkamers, een badkamer, een apart toilet en een berging aan. Slaapkamer 1: Deze slaapkamer is ca. 12.1 m² groot en is v.v. een deur die toegang biedt tot het balkon. Slaapkamer 2: Deze slaapkamer is ca. 6.5 m² groot. De volledig betegelde badkamer is ca. 3 m² groot en voorzien van: een bad, een wastafel en mechanische afzuiging. Een separaat gelegen toilet met fonteintje. De inpandige ruime berging (ca. 5m²) is voorzien van de witgoedaansluiting en biedt extra opslagmogelijkheden. De cv-ketel (eigendom) bevindt zich in een muurkast die te bereiken is via de galerij.  Aanvullende informatie •\\\\tInstapklaar gelijkvloers appartement met een woonoppervlakte van 69 m² •\\\\tBijdrage VVE € 152,89 (Opstal- en glasverzekering, algemeen en eigen waterverbruik, elektraverbruik algemene ruimtes, planmatig onderhoud, schoonmaakkosten, lift onderhoud en dotatie reservefonds)  •\\\\tRuime parkeermogelijkheden in de directe nabijheid. Optioneel kan in de ondergrondse garage een parkeerplek gehuurd worden via Q-Park, ca. € 60,- per maand •\\\\tFijn uitzicht over het plein de Roserije •\\\\tLift aanwezig in het complex. •\\\\tPrivéberging en twee gezamenlijke fietsenberging inpandig. •\\\\tRuim balkon •\\\\tIn 2021 is buitenschilderwerk verricht en in 2019 zijn rookgasafvoer kanalen gereinigd •\\\\tCv-ketel is eigendom (HRE combi) bj. 2018  •\\\\tGezonde, actieve en professionele VvE  •\\\\tDe woning beschikt over een energielabel B.   Niet-bewonersclausule Koper is op de hoogte dat de woning nooit bewoond is geweest door verkoper. Verkoper kan geen garanties geven over de kwaliteit van de onroerende zaak. Daarom verleent verkoper met betrekking tot de onroerende zaak generlei vrijwaring voor zichtbare en aan hem onzichtbare gebreken en aan hem onbekende erfdienstbaarheden, kwalitatieve verplichtingen en lasten, met uitzondering van lasten en beperkingen die voortvloeien uit feiten die vatbaar zijn voor inschrijving in de openbare registers doch daarin ten tijde van het sluiten van deze overeenkomst niet waren ingeschreven.   NEN2580 Meetrapport De meting en berekeningen zijn op basis van de ”Meetinstructie bepalen gebruiksoppervlakten woningen” en ”Meetinstructie bepalen bruto inhoud woningen” a.d.h.v. de NEN2580:2007 NL, ‘Oppervlakten en inhouden van gebouwen – Termen, definities en bepalingsmethoden’, inclusief het correctieblad NEN 2580:2007/C1:2008. Op dit meetcertificaat zijn de in dit meetrapport genoemde aannames en voorbehouden van toepassing. NEN2580 meetrapport opvraagbaar bij de makelaar. De genoemde maten zijn ca., hieraan kunnen geen rechten worden ontleend.  Bezichtiging inplannen? Uitsluitend op afspraak via makelaarskantoor KH-Solutions Makelaars.  Ter bescherming van de belangen van zowel koper als verkoper, wordt uitdrukkelijk gesteld dat een koopovereenkomst met betrekking tot deze onroerende zaak eerst dan tot stand komt nadat koper en verkoper de koopovereenkomst hebben getekend.  De termijn die wordt opgenomen voor eventuele (overeengekomen) ontbindende voorwaarden (bv. financiering) is in de regel 4 tot 6 weken na het sluiten van de mondelinge overeenkomst.  De waarborgsom/bankgarantie is 10% van de koopsom. De koper dient deze 1 week ná het vervallen van de ontbindende voorwaarden bij de notaris te deponeren. Koper is te allen tijde gerechtigd voor eigen rekening een bouwkundige keuring te (laten) verrichten dan wel andere adviseurs te raadplegen teneinde een goed inzicht te verkrijgen over de staat van onderhoud.  Deze informatie is door KH-Solutions Makelaars met de nodige zorgvuldigheid samengesteld. Onzerzijds wordt echter geen enkele aansprakelijkheid aanvaard voor enige onvolledigheid, onjuistheid of anderszins, dan wel de gevolgen daarvan. Alle opgegeven maten en oppervlakten zijn indicatief. Koper is uitgenodigd de opgegeven oppervlakte(s) van het gekochte op juistheid te controleren.  Makelaar Kenneth Heuts van KH-Solutions Makelaars nodigt je graag uit voor een bezichtiging.\\' metadata={\\'row\\': 5, \\'source\\': \\'./data/houses_buy_test.csv\\'}\\n\\npage_content=\\'descrip: Gemoderniseerd en instapklaar  appartement  gelegen op  loopafstand van  het bruisende centrum van  Maastricht.  Dit appartement beschikt o.a. over  2 slaapkamers,  halfopen  keuken, moderne badkamer  met  inloopdouche, balkon en  een privéberging.  Tevens  is er een privéparkeerplaats.   Indeling:  Souterrain:   Privéberging met een oppervlakte van 8 m²  Begane grond:  Gemeenschappelijke entree/hal op de begane grond met intercom, bellentableau, brievenbussen, trappenhuis en lifttoegang. Tevens bevindt zich op deze begane grond de privéberging en een gemeenschappelijke fietsenberging.  2e verdieping (lift of trap):  Via de galerij gelegen aan de achterzijde van het gebouw heeft men toegang tot het appartement. Vanuit de entree/hal/gang heeft men toegang naar de woonkamer en keuken, 2 slaapkamers, badkamer, toilet en een extra bergruimte met wasmachine aansluiting.  Vanuit de woonkamer heeft men toegang tot de halfopen keuken. Deze keuken beschikt over een U -opstelling( 2020) met diverse lades, onder-, en bovenkasten. Verder is deze keuken voorzien van diverse apparatuur zoals een vaatwasser, elektrische oven, inductie kookplaat ( 4 zones), RVS afzuigkap, koelkast, vriezer, spoelunit met een ééngreepsmengkraan en een Quooker.  Het balkon is bereikbaar vanuit de woonkamer.  De vloer van de woonkamer is voorzien van een laminaatvloer welke dorpelloos doorloopt naar de entree.  De beide slaapkamers zijn gelegen aan de galerijzijde.  De vloer van deze slaapkamers zijn voorzien van tapijt.  De badkamer  (2017) is voorzien van een inloopdouche met glazen spatscherm en een badkamermeubel. Het separaat gelegen toiletruimte is voorzien van een hangcloset en fonteintje.  Vanuit de centrale gang heeft men toegang tot een berging alwaar de CV ketel (Remeha Avanta 28C, HR, bouwjaar 2007, eigendom) staat opgesteld. Tevens bevindt zich hier de aansluiting voor de wasmachine en/of droger. Deze ruimte is tevens geschikt voor extra bergruimte en/of provisieruimte.   Algemeen:  Het appartement is goed onderhouden en geheel voorzien van hardhouten kozijnen met isolerend glas.  Privéparkeerplaats:  Bij dit appartement behoort een parkeerplaats welke gelegen is op een afgesloten terrein.  In de omgeving is parkeren middels een vergunning mogelijk voor € 3,98 per maand   Omgeving:  Het appartement is gelegen op loopafstand van de oude binnenstad. Andere winkelvoorzieningen waaronder de Brusselse Poort, openbaar vervoer en scholen zijn in de nabijheid gelegen.  VVE bijdrage:  De maandelijkse VvE bijdrage bedraagt € 174,50,- per maand incl onderhoudskosten, schoonmaak algemene ruimtes, opstalverzekering, glasverzekering, administratie kosten en reservering groot onderhoud. Het saldo van de VvE reserve is positief.  Energielabel:  De woning heeft een energielabel A.  Aanvaarding:   begin mei 2024  Kenmerken:  •\\\\tAppartement met lift •\\\\tWoonkamer met laminaatvloer •\\\\tCompleet uitgeruste en moderne keuken met diverse apparatuur •\\\\t2 slaapkamers •\\\\tBadkamer met inloopdouche en badkamermeubel •\\\\tPrivé parkeerplaats •\\\\tCentraal gelegen t.o.v. het centrum en uitvalswegen  Aansprakelijkheid:  Het bovenstaande schetst slechts een globale omschrijving van het object. De informatie berust deels op gegevens welke door derden aan ons zijn verstrekt. Met de grootste zorg hebben wij deze informatie verwerkt doch kunnen ten aanzien van de juistheid van deze gegevens geen aansprakelijkheid aanvaarden. Aan deze informatie kunnen geen rechten worden ontleend.  Maatvoering:  Hoewel wij de woning zorgvuldig opmeten, kan het zijn dat er verschillen zijn in de afmetingen. Noch de verkoper, noch de makelaar accepteert enige aansprakelijkheid voor deze verschillen. De maatvoering wordt gezien als indicatief. Indien de exacte maatvoeringen voor u van belang zijn, raden wij u aan, deze zelf na te meten of na te laten meten.  Kopers informatie:  Ter bescherming van de belangen van zowel koper als verkoper, wordt uitdrukkelijk gesteld dat een koopovereenkomst met betrekking tot deze onroerende zaak eerst dan tot stand komt nadat koper en verkoper de koopovereenkomst hebben getekend (“schriftelijkheidsvereiste”). De termijn die wordt opgenomen voor eventuele (overeengekomen) ontbindende voorwaarden (bv. Financiering) is in de regel 4 tot 6 weken na het sluiten van de mondelinge wilsovereenkomst. De waarborgsom/bankgarantie is 10% van de koopsom. De koper dient deze 2 weken ná het vervallen van de ontbindende voorwaarden bij de desbetreffende notaris te deponeren. Koper is te allen tijde gerechtigd voor eigen rekening een bouwkundige keuring te (laten) verrichten dan wel andere adviseurs te raadplegen teneinde een goed inzicht te verkrijgen over de staat van onderhoud.  Copyright ©:  Gehele of gedeeltelijke overname, plaatsing op andere sites, verveelvoudiging op welke andere wijze dan ook en/of commercieel gebruik van deze informatie (zoals foto’s, plattegronden, teksten etc.),  is niet toegestaan, tenzij hiervoor uitdrukkelijk schriftelijke toestemming is verleend door Dave Crolla Makelaardij, of tenzij aan de onderstaande voorwaarden wordt voldaan. Deze informatie mag worden bekeken op een scherm, gedownload worden op een hard-disk of geprint worden, mits dit geschied voor persoonlijk, informatief en niet-commercieel gebruik, mits de informatie niet gewijzigd wordt, en mits de informatie niet wordt gebruikt in een ander werk of publicatie in welk medium dan ook. Dave Crolla Makelaardij voert het beheer over de pagina’s op deze website. Het linken en verwijzen naar de pagina’s op deze website mag altijd.\\' metadata={\\'address\\': \\'Volksplein 95 B\\', \\'bathroom\\': \\'1\\', \\'bedroom\\': \\'2\\', \\'building_type\\': \\'Bestaande bouw\\', \\'city\\': \\'maastricht\\', \\'energy_label\\': \\'A\\', \\'house_age\\': \\'35\\', \\'house_id\\': \\'43414761\\', \\'house_type\\': \\'appartement\\', \\'living_area\\': \\'78\\', \\'price\\': \\'299000\\', \\'price_m2\\': \\'3833.3\\', \\'room\\': \\'3\\', \\'row\\': 23, \\'source\\': \\'Gemoderniseerd en instapklaar  appartement  gelegen op  loopafstand van  het bruisende centrum van  Maastricht.  Dit appartement beschikt o.a. over  2 slaapkamers,  halfopen  keuken, moderne badkamer  met  inloopdouche, balkon en  een privéberging.  Tevens  is er een privéparkeerplaats.   Indeling:  Souterrain:   Privéberging met een oppervlakte van 8 m²  Begane grond:  Gemeenschappelijke entree/hal op de begane grond met intercom, bellentableau, brievenbussen, trappenhuis en lifttoegang. Tevens bevindt zich op deze begane grond de privéberging en een gemeenschappelijke fietsenberging.  2e verdieping (lift of trap):  Via de galerij gelegen aan de achterzijde van het gebouw heeft men toegang tot het appartement. Vanuit de entree/hal/gang heeft men toegang naar de woonkamer en keuken, 2 slaapkamers, badkamer, toilet en een extra bergruimte met wasmachine aansluiting.  Vanuit de woonkamer heeft men toegang tot de halfopen keuken. Deze keuken beschikt over een U -opstelling( 2020) met diverse lades, onder-, en bovenkasten. Verder is deze keuken voorzien van diverse apparatuur zoals een vaatwasser, elektrische oven, inductie kookplaat ( 4 zones), RVS afzuigkap, koelkast, vriezer, spoelunit met een ééngreepsmengkraan en een Quooker.  Het balkon is bereikbaar vanuit de woonkamer.  De vloer van de woonkamer is voorzien van een laminaatvloer welke dorpelloos doorloopt naar de entree.  De beide slaapkamers zijn gelegen aan de galerijzijde.  De vloer van deze slaapkamers zijn voorzien van tapijt.  De badkamer  (2017) is voorzien van een inloopdouche met glazen spatscherm en een badkamermeubel. Het separaat gelegen toiletruimte is voorzien van een hangcloset en fonteintje.  Vanuit de centrale gang heeft men toegang tot een berging alwaar de CV ketel (Remeha Avanta 28C, HR, bouwjaar 2007, eigendom) staat opgesteld. Tevens bevindt zich hier de aansluiting voor de wasmachine en/of droger. Deze ruimte is tevens geschikt voor extra bergruimte en/of provisieruimte.   Algemeen:  Het appartement is goed onderhouden en geheel voorzien van hardhouten kozijnen met isolerend glas.  Privéparkeerplaats:  Bij dit appartement behoort een parkeerplaats welke gelegen is op een afgesloten terrein.  In de omgeving is parkeren middels een vergunning mogelijk voor € 3,98 per maand   Omgeving:  Het appartement is gelegen op loopafstand van de oude binnenstad. Andere winkelvoorzieningen waaronder de Brusselse Poort, openbaar vervoer en scholen zijn in de nabijheid gelegen.  VVE bijdrage:  De maandelijkse VvE bijdrage bedraagt € 174,50,- per maand incl onderhoudskosten, schoonmaak algemene ruimtes, opstalverzekering, glasverzekering, administratie kosten en reservering groot onderhoud. Het saldo van de VvE reserve is positief.  Energielabel:  De woning heeft een energielabel A.  Aanvaarding:   begin mei 2024  Kenmerken:  •\\\\tAppartement met lift •\\\\tWoonkamer met laminaatvloer •\\\\tCompleet uitgeruste en moderne keuken met diverse apparatuur •\\\\t2 slaapkamers •\\\\tBadkamer met inloopdouche en badkamermeubel •\\\\tPrivé parkeerplaats •\\\\tCentraal gelegen t.o.v. het centrum en uitvalswegen  Aansprakelijkheid:  Het bovenstaande schetst slechts een globale omschrijving van het object. De informatie berust deels op gegevens welke door derden aan ons zijn verstrekt. Met de grootste zorg hebben wij deze informatie verwerkt doch kunnen ten aanzien van de juistheid van deze gegevens geen aansprakelijkheid aanvaarden. Aan deze informatie kunnen geen rechten worden ontleend.  Maatvoering:  Hoewel wij de woning zorgvuldig opmeten, kan het zijn dat er verschillen zijn in de afmetingen. Noch de verkoper, noch de makelaar accepteert enige aansprakelijkheid voor deze verschillen. De maatvoering wordt gezien als indicatief. Indien de exacte maatvoeringen voor u van belang zijn, raden wij u aan, deze zelf na te meten of na te laten meten.  Kopers informatie:  Ter bescherming van de belangen van zowel koper als verkoper, wordt uitdrukkelijk gesteld dat een koopovereenkomst met betrekking tot deze onroerende zaak eerst dan tot stand komt nadat koper en verkoper de koopovereenkomst hebben getekend (“schriftelijkheidsvereiste”). De termijn die wordt opgenomen voor eventuele (overeengekomen) ontbindende voorwaarden (bv. Financiering) is in de regel 4 tot 6 weken na het sluiten van de mondelinge wilsovereenkomst. De waarborgsom/bankgarantie is 10% van de koopsom. De koper dient deze 2 weken ná het vervallen van de ontbindende voorwaarden bij de desbetreffende notaris te deponeren. Koper is te allen tijde gerechtigd voor eigen rekening een bouwkundige keuring te (laten) verrichten dan wel andere adviseurs te raadplegen teneinde een goed inzicht te verkrijgen over de staat van onderhoud.  Copyright ©:  Gehele of gedeeltelijke overname, plaatsing op andere sites, verveelvoudiging op welke andere wijze dan ook en/of commercieel gebruik van deze informatie (zoals foto’s, plattegronden, teksten etc.),  is niet toegestaan, tenzij hiervoor uitdrukkelijk schriftelijke toestemming is verleend door Dave Crolla Makelaardij, of tenzij aan de onderstaande voorwaarden wordt voldaan. Deze informatie mag worden bekeken op een scherm, gedownload worden op een hard-disk of geprint worden, mits dit geschied voor persoonlijk, informatief en niet-commercieel gebruik, mits de informatie niet gewijzigd wordt, en mits de informatie niet wordt gebruikt in een ander werk of publicatie in welk medium dan ook. Dave Crolla Makelaardij voert het beheer over de pagina’s op deze website. Het linken en verwijzen naar de pagina’s op deze website mag altijd.\\', \\'url\\': \\'https://www.funda.nl/koop/maastricht/appartement-43414761-volksplein-95-b/\\', \\'year_built\\': \\'1989\\', \\'zip\\': \\'6214\\'}'"
      ]
     },
     "execution_count": 26,
     "metadata": {},
     "output_type": "execute_result"
    }
   ],
   "source": [
    "\"\\n\\n\".join(str(doc) for doc in docs)\n"
   ]
  }
 ],
 "metadata": {
  "kernelspec": {
   "display_name": ".venv",
   "language": "python",
   "name": "python3"
  },
  "language_info": {
   "codemirror_mode": {
    "name": "ipython",
    "version": 3
   },
   "file_extension": ".py",
   "mimetype": "text/x-python",
   "name": "python",
   "nbconvert_exporter": "python",
   "pygments_lexer": "ipython3",
   "version": "3.10.12"
  }
 },
 "nbformat": 4,
 "nbformat_minor": 2
}
