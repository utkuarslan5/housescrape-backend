{
 "cells": [
  {
   "cell_type": "code",
   "execution_count": 11,
   "metadata": {},
   "outputs": [],
   "source": [
    "# from langchain_community.utilities import SQLDatabase\n",
    "\n",
    "\n",
    "# db = SQLDatabase.from_uri(\"sqlite:///./data/houses_buy_test.db\")\n",
    "# print(db.dialect)\n",
    "# print(db.get_usable_table_names())\n",
    "# db.run(\"SELECT * FROM houses LIMIT 1;\")"
   ]
  },
  {
   "cell_type": "code",
   "execution_count": 12,
   "metadata": {},
   "outputs": [
    {
     "data": {
      "text/plain": [
       "True"
      ]
     },
     "execution_count": 12,
     "metadata": {},
     "output_type": "execute_result"
    }
   ],
   "source": [
    "import dotenv\n",
    "dotenv.load_dotenv()"
   ]
  },
  {
   "cell_type": "code",
   "execution_count": 13,
   "metadata": {},
   "outputs": [],
   "source": [
    "# from langchain_community.agent_toolkits import create_sql_agent\n",
    "# from langchain_openai import ChatOpenAI\n",
    "\n",
    "# llm = ChatOpenAI(model=\"gpt-3.5-turbo\", temperature=0)\n",
    "# agent_executor = create_sql_agent(llm, db=db, agent_type=\"openai-tools\", verbose=True)"
   ]
  },
  {
   "cell_type": "code",
   "execution_count": 14,
   "metadata": {},
   "outputs": [],
   "source": [
    "# agent_executor.invoke(\n",
    "#     \"Get me houses in maastricht that are lower than 250000 eur?\"\n",
    "# )"
   ]
  },
  {
   "cell_type": "code",
   "execution_count": 15,
   "metadata": {},
   "outputs": [],
   "source": [
    "# agent_executor.invoke(\n",
    "#     \"I want to get a student friendly house in Nijmegen Explain How did you decide it is student friendly?\"\n",
    "# )"
   ]
  },
  {
   "cell_type": "code",
   "execution_count": 16,
   "metadata": {},
   "outputs": [],
   "source": [
    "# from langchain.embeddings.openai import OpenAIEmbeddings\n",
    "# from langchain_community.vectorstores import Chroma\n",
    "# from langchain_community.document_loaders.csv_loader import CSVLoader\n",
    "\n",
    "\n",
    "# embeddings = OpenAIEmbeddings(model=\"text-embedding-3-small\")\n",
    "\n",
    "# loader = CSVLoader('./data/houses_buy_test.csv')\n",
    "# houses = loader.load()\n",
    "# houses"
   ]
  },
  {
   "cell_type": "code",
   "execution_count": 17,
   "metadata": {},
   "outputs": [],
   "source": [
    "# persist_directory = './data/vecdb/'\n",
    "\n",
    "# ## Here is the nmew embeddings being used\n",
    "# embedding = OpenAIEmbeddings()\n",
    "\n",
    "# db = Chroma.from_documents(documents=houses, \n",
    "#                             embedding=embedding,\n",
    "#                             persist_directory=persist_directory,\n",
    "#                             )\n",
    "\n",
    "# db.persist()"
   ]
  },
  {
   "cell_type": "code",
   "execution_count": 18,
   "metadata": {},
   "outputs": [],
   "source": [
    "from langchain_openai.embeddings import OpenAIEmbeddings\n",
    "from langchain_community.vectorstores import Chroma\n",
    "\n",
    "persist_directory = './data/vecdb/'\n",
    "\n",
    "db = Chroma(persist_directory=persist_directory, \n",
    "            embedding_function=OpenAIEmbeddings())"
   ]
  },
  {
   "cell_type": "code",
   "execution_count": 19,
   "metadata": {},
   "outputs": [
    {
     "name": "stdout",
     "output_type": "stream",
     "text": [
      "house_id: 43414815\n",
      "url: https://www.funda.nl/koop/maastricht/appartement-43414815-aldenhofpark-1-a03/\n",
      "city: maastricht\n",
      "house_type: appartement\n",
      "building_type: Bestaande bouw\n",
      "price: 475000\n",
      "price_m2: 6250.0\n",
      "room: 3\n",
      "bedroom: 2\n",
      "bathroom: 1\n",
      "living_area: 76\n",
      "energy_label: na\n",
      "zip: 6211\n",
      "address: Aldenhofpark 1 a03\n",
      "year_built: 1915\n",
      "house_age: 109\n",
      "descrip: MAASTRICHT (Jekerkwartier) -  In  het charmante  Jekerkwartier, direct  aan het stadspark van  Maastricht  op de 2e etage  gelegen instapklaar hoekappartement met  2 slaapkamers en  balkon  en een fantastisch  uitzicht op  de  kenmerkende  historische skyline met o.a. de torens van de Sint Janskerk en de Sint Servaeskerk aan het Vrijthof in Maastricht. Vanuit hier loop je zó het bruisende centrum in terwijl je niet direct de drukte van de binnenstad ervaart.  De ligging is werkelijk op een toplocatie, het onderhoud is uitstekend, de indeling zoals je het wenst: voorzien van een ruime living met uitstekende lichtinval mede dankzij de hoekerker en de open keuken, twee gerieflijke slaapkamers, een doucheruimte en een wasruimte en een heerlijk knus balkon op het zuidoosten met uitzicht op de historische stadsmuur en het bronzen beeld van d'Artagnan. De authentieke trap leidt u naar de woonverdieping, in het souterrain is een ruime berging gelegen.  De vele ramen bieden een decor van de historie van Maastricht. Het appartement is afgewerkt met een prachtige doorlopende eikenhouten parketvloer, strak gestukadoorde wanden en plafonds, een moderne en complete keukeninrichting en authentieke binnendeuren. Het wooncomplex is aangemerkt als Gemeentelijk Monument, dominant bouwwerk, wat impliceert dat het interieur én het exterieur beschermde details geniet zoals het keramische bezienswaardige tegeltableau van d'Artagnan en het glasmozaïek in de zijgevel, aangezien hier vroeger een glasatelier was gevestigd.  INDELING Souterrain (van het complex): Vanuit de Tongersestraat is er toegang tot het souterrain, waarin alle 4 de appartementen een eigen afsluitbare ruime en droge berging (ca. 15 m²) hebben voor bijvoorbeeld het stallen van fietsen.  Begane grond (van het complex): De entree biedt ruimte voor de meterkasten van 3 appartementen en de authentieke houten trap welke gedeeld wordt door in totaal 3 appartementseigenaren.  Tweede verdieping (van het complex): De ruime entree/hal van het appartement heeft een centrale ligging in het appartement, heeft een garderobe en intercom en geeft toegang tot de toiletruimte, woonkamer, cv-ruimte, doucheruimte en de twee slaapkamers. De volledig betegelde toiletruimte is voorzien van een vrijhangend closet met inbouwreservoir en fonteintje. De riante, zeer heldere woonkamer (ca. 35 m²) biedt een open keuken (ca. 6 m²), met een fenomenaal uitzicht richting het stadscentrum en het Aldenhofpark. De keukeninrichting is uit 2008, hoekopstelling, onder meer voorzien van een kunststof werkblad met een 4-pits gasfornuis, vrijhangende RVS afzuigkap, RVS spoelbak, koelkast, vriezer, vaatwasser en oven. Cv-ruimte met HR CV-combiketel (bj. 2016, eigendom) en witgoedaansluiting. De volledig betegelde doucheruimte beschikt over een wastafel in badkamermeubel en een douchecabine. De twee slaapkamers (resp. ca. 7,5 en 12 m²) zijn beiden aan de zuidoostzijde gelegen, waarbij de grote slaapkamer toegang geeft tot het balkon. Het zonnige balkon, groot ca. 5,5 m2, is gelegen op het zuiden en biedt een heerlijk uitzicht op het rustige stadspark.  OMGEVING Gelegen op een zichtlocatie, in het stadcentrum met enerzijds zicht op het Aldenhofpark met haar historische stadsmuur en het veelbesproken standbeeld van d'Artagnan, anderzijds is er een prachtig zicht op de lommerrijke Tongersestraat. Het historische centrum is op een steenworp afstand en de iets verder gelegen Prins Bisschopsingel heeft directe verbindingen met de snelweg A2 en bushaltes naar o.a. het MUMC+, diverse faculteiten van Maastricht University zijn lopend of met de fiets uitstekend te bereiken.  BIJZONDERHEDEN: - Het gebouw dateert uit 1915, deel van de fundamenten dateren mogelijk uit 1678, aangemerkt als Gemeentelijk Monument; - Zowel de gehele buitenzijde als het appartement zijn volledig gerenoveerd en in uitstekende onderhouden staat; - Rondom voorzien van hardhouten kozijnen met HR++ beglazing; - Behoudens de toiletruimte en badkamer, is het gehele appartement voorzien van een doorlopende eikenhouten parketvloer; - De maandelijkse bijdrage voor de VvE bedraagt € 139,- per maand, meer informatie via de makelaar.  BEZICHTIGING Uitsluitend op afspraak via makelaarskantoor TIM Vastgoed, tel. 043-3506900.  TOELICHTING OP VERKOOPINFORMATIE Hiervoor verwijzen wij je naar onze website, waar onze toelichting op verkoopinformatie te vinden is.\n"
     ]
    }
   ],
   "source": [
    "query = \"Student housing in Maastricht\"\n",
    "docs = db.similarity_search(query)\n",
    "print(docs[0].page_content)"
   ]
  },
  {
   "cell_type": "code",
   "execution_count": 20,
   "metadata": {},
   "outputs": [],
   "source": [
    "from langchain import hub\n",
    "from langchain_core.runnables import RunnablePassthrough\n",
    "from langchain.schema import StrOutputParser\n",
    "from langchain_openai import ChatOpenAI\n",
    "\n",
    "retriever = db.as_retriever()\n",
    "\n",
    "prompt = hub.pull(\"rlm/rag-prompt\")\n",
    "llm = ChatOpenAI(model_name=\"gpt-3.5-turbo\", temperature=0)\n",
    "\n",
    "def format_docs(docs):\n",
    "    return \"\\n\\n\".join(doc.page_content for doc in docs)\n",
    "\n",
    "rag_chain = (\n",
    "    {\"context\": retriever | format_docs, \"question\": RunnablePassthrough()}\n",
    "    | prompt\n",
    "    | llm\n",
    "    | StrOutputParser()\n",
    ")"
   ]
  }
 ],
 "metadata": {
  "kernelspec": {
   "display_name": ".venv",
   "language": "python",
   "name": "python3"
  },
  "language_info": {
   "codemirror_mode": {
    "name": "ipython",
    "version": 3
   },
   "file_extension": ".py",
   "mimetype": "text/x-python",
   "name": "python",
   "nbconvert_exporter": "python",
   "pygments_lexer": "ipython3",
   "version": "3.10.12"
  }
 },
 "nbformat": 4,
 "nbformat_minor": 2
}
